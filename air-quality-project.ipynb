{
 "cells": [
  {
   "cell_type": "code",
   "execution_count": 1,
   "metadata": {},
   "outputs": [
    {
     "name": "stdout",
     "output_type": "stream",
     "text": [
      "Requirement already satisfied: mysql-connector-python in c:\\users\\16302\\appdata\\local\\programs\\python\\python312\\lib\\site-packages (9.2.0)\n",
      "Requirement already satisfied: pandas in c:\\users\\16302\\appdata\\local\\programs\\python\\python312\\lib\\site-packages (2.2.0)\n",
      "Requirement already satisfied: sqlalchemy in c:\\users\\16302\\appdata\\local\\programs\\python\\python312\\lib\\site-packages (2.0.37)\n",
      "Requirement already satisfied: pymysql in c:\\users\\16302\\appdata\\local\\programs\\python\\python312\\lib\\site-packages (1.1.1)\n",
      "Requirement already satisfied: numpy<2,>=1.26.0 in c:\\users\\16302\\appdata\\local\\programs\\python\\python312\\lib\\site-packages (from pandas) (1.26.3)\n",
      "Requirement already satisfied: python-dateutil>=2.8.2 in c:\\users\\16302\\appdata\\local\\programs\\python\\python312\\lib\\site-packages (from pandas) (2.9.0.post0)\n",
      "Requirement already satisfied: pytz>=2020.1 in c:\\users\\16302\\appdata\\local\\programs\\python\\python312\\lib\\site-packages (from pandas) (2024.1)\n",
      "Requirement already satisfied: tzdata>=2022.7 in c:\\users\\16302\\appdata\\local\\programs\\python\\python312\\lib\\site-packages (from pandas) (2023.4)\n",
      "Requirement already satisfied: greenlet!=0.4.17 in c:\\users\\16302\\appdata\\local\\programs\\python\\python312\\lib\\site-packages (from sqlalchemy) (3.1.1)\n",
      "Requirement already satisfied: typing-extensions>=4.6.0 in c:\\users\\16302\\appdata\\local\\programs\\python\\python312\\lib\\site-packages (from sqlalchemy) (4.12.2)\n",
      "Requirement already satisfied: six>=1.5 in c:\\users\\16302\\appdata\\local\\programs\\python\\python312\\lib\\site-packages (from python-dateutil>=2.8.2->pandas) (1.17.0)\n",
      "Note: you may need to restart the kernel to use updated packages.\n"
     ]
    },
    {
     "name": "stderr",
     "output_type": "stream",
     "text": [
      "\n",
      "[notice] A new release of pip is available: 24.0 -> 25.0\n",
      "[notice] To update, run: python.exe -m pip install --upgrade pip\n"
     ]
    }
   ],
   "source": [
    "pip install mysql-connector-python pandas sqlalchemy pymysql"
   ]
  },
  {
   "cell_type": "code",
   "execution_count": 3,
   "metadata": {},
   "outputs": [
    {
     "name": "stdout",
     "output_type": "stream",
     "text": [
      "[(datetime.datetime(2025, 2, 9, 18, 47, 14),)]\n"
     ]
    }
   ],
   "source": [
    "import mysql.connector\n",
    "\n",
    "conn = mysql.connector.connect(\n",
    "    host=\"ads507-final-project.mysql.database.azure.com\",\n",
    "    user=\"minguito\",\n",
    "    password=\"ProjectGroup5\",\n",
    "    database=\"air_quality_analysis\",\n",
    "    ssl_ca=\"DigiCertGlobalRootCA.crt.pem\"\n",
    ")\n",
    "\n",
    "cursor = conn.cursor()\n",
    "cursor.execute(\"SELECT NOW();\")\n",
    "print(cursor.fetchall())"
   ]
  },
  {
   "cell_type": "code",
   "execution_count": 4,
   "metadata": {},
   "outputs": [
    {
     "name": "stderr",
     "output_type": "stream",
     "text": [
      "C:\\Users\\16302\\AppData\\Local\\Temp\\ipykernel_23904\\10951791.py:1: DeprecationWarning: \n",
      "Pyarrow will become a required dependency of pandas in the next major release of pandas (pandas 3.0),\n",
      "(to allow more performant data types, such as the Arrow string type, and better interoperability with other libraries)\n",
      "but was not found to be installed on your system.\n",
      "If this would cause problems for you,\n",
      "please provide us feedback at https://github.com/pandas-dev/pandas/issues/54466\n",
      "        \n",
      "  import pandas as pd\n"
     ]
    },
    {
     "name": "stdout",
     "output_type": "stream",
     "text": [
      "Tables in air_quality_analysis:\n",
      "ad_viz_plotval_data\n",
      "ad_viz_plotval_data_10\n",
      "ad_viz_plotval_data_11\n",
      "ad_viz_plotval_data_2\n",
      "ad_viz_plotval_data_4\n",
      "ad_viz_plotval_data_6\n",
      "ad_viz_plotval_data_8\n",
      "ad_viz_plotval_data_9\n",
      "asthma_ed_visits\n",
      "asthma_hospital_visits\n",
      "pollution_data\n",
      "         Date Source    Site_ID  POC  Daily_Mean_PM25_Concentration     Units  \\\n",
      "0  2015-01-03    AQS  060730001    1                           14.9  ug/m3 LC   \n",
      "1  2015-01-06    AQS  060730001    1                            3.7  ug/m3 LC   \n",
      "2  2015-01-09    AQS  060730001    1                           11.6  ug/m3 LC   \n",
      "\n",
      "   Daily_AQI_Value Local_Site_Name  Daily_Obs_Count  Percent_Complete  ...  \\\n",
      "0               62     Chula Vista                1               100  ...   \n",
      "1               21     Chula Vista                1               100  ...   \n",
      "2               56     Chula Vista                1               100  ...   \n",
      "\n",
      "  Method_Code                                 Method_Description CBSA_Code  \\\n",
      "0         145  R & P Model 2025 PM-2.5 Sequential Air Sampler...     41740   \n",
      "1         145  R & P Model 2025 PM-2.5 Sequential Air Sampler...     41740   \n",
      "2         145  R & P Model 2025 PM-2.5 Sequential Air Sampler...     41740   \n",
      "\n",
      "                CBSA_Name State_FIPS_Code       State County_FIPS_Code  \\\n",
      "0  San Diego-Carlsbad, CA              06  California              073   \n",
      "1  San Diego-Carlsbad, CA              06  California              073   \n",
      "2  San Diego-Carlsbad, CA              06  California              073   \n",
      "\n",
      "      County Site_Latitude Site_Longitude  \n",
      "0  San Diego       32.6312       -117.059  \n",
      "1  San Diego       32.6312       -117.059  \n",
      "2  San Diego       32.6312       -117.059  \n",
      "\n",
      "[3 rows x 22 columns]\n"
     ]
    },
    {
     "name": "stderr",
     "output_type": "stream",
     "text": [
      "C:\\Users\\16302\\AppData\\Local\\Temp\\ipykernel_23904\\10951791.py:20: UserWarning: pandas only supports SQLAlchemy connectable (engine/connection) or database string URI or sqlite3 DBAPI2 connection. Other DBAPI2 objects are not tested. Please consider using SQLAlchemy.\n",
      "  df = pd.read_sql_query(query, conn)\n"
     ]
    }
   ],
   "source": [
    "import pandas as pd\n",
    "from sqlalchemy import create_engine\n",
    "\n",
    "# Query to check if tables exist\n",
    "cursor.execute(\"SHOW TABLES;\")\n",
    "tables = cursor.fetchall()\n",
    "\n",
    "# Print table names\n",
    "if tables:\n",
    "    print(\"Tables in air_quality_analysis:\")\n",
    "    for table in tables:\n",
    "        print(table[0])\n",
    "else:\n",
    "    print(\"No tables found in the database.\")\n",
    "\n",
    "# Query to get table data - check contains data\n",
    "query = \"SELECT * FROM ad_viz_plotval_data_4 LIMIT 3;\"\n",
    "\n",
    "# Load data into Pandas DataFrame\n",
    "df = pd.read_sql_query(query, conn)\n",
    "\n",
    "# Display DataFrame\n",
    "print(df)"
   ]
  },
  {
   "cell_type": "code",
   "execution_count": 5,
   "metadata": {},
   "outputs": [
    {
     "name": "stdout",
     "output_type": "stream",
     "text": [
      "Table pollution_data created successfully.\n"
     ]
    }
   ],
   "source": [
    "create_table_query = \"\"\"\n",
    "CREATE TABLE IF NOT EXISTS pollution_data (\n",
    "    Date DATE,\n",
    "    Source VARCHAR(50),\n",
    "    Site_ID VARCHAR(20),\n",
    "    POC INT,\n",
    "    Daily_Mean_PM25_Concentration FLOAT,\n",
    "    Daily_Max_8hr_CO_Concentration FLOAT,\n",
    "    Units VARCHAR(50),\n",
    "    Daily_AQI_Value INT,\n",
    "    Local_Site_Name VARCHAR(100),\n",
    "    Daily_Obs_Count INT,\n",
    "    Percent_Complete INT,\n",
    "    AQS_Parameter_Code VARCHAR(10),\n",
    "    AQS_Parameter_Description VARCHAR(100),\n",
    "    Method_Code VARCHAR(20),\n",
    "    Method_Description VARCHAR(255),\n",
    "    CBSA_Code VARCHAR(10),\n",
    "    CBSA_Name VARCHAR(100),\n",
    "    State_FIPS_Code VARCHAR(10),\n",
    "    State VARCHAR(50),\n",
    "    County_FIPS_Code VARCHAR(10),\n",
    "    County VARCHAR(50),\n",
    "    Site_Latitude FLOAT,\n",
    "    Site_Longitude FLOAT\n",
    ");\n",
    "\n",
    "\"\"\"\n",
    "\n",
    "cursor.execute(create_table_query)\n",
    "conn.commit()\n",
    "print(\"Table pollution_data created successfully.\")"
   ]
  },
  {
   "cell_type": "code",
   "execution_count": 6,
   "metadata": {},
   "outputs": [
    {
     "ename": "ProgrammingError",
     "evalue": "1054 (42S22): Unknown column 'Source' in 'field list'",
     "output_type": "error",
     "traceback": [
      "\u001b[1;31m---------------------------------------------------------------------------\u001b[0m",
      "\u001b[1;31mMySQLInterfaceError\u001b[0m                       Traceback (most recent call last)",
      "File \u001b[1;32mc:\\Users\\16302\\AppData\\Local\\Programs\\Python\\Python312\\Lib\\site-packages\\mysql\\connector\\connection_cext.py:755\u001b[0m, in \u001b[0;36mCMySQLConnection.cmd_query\u001b[1;34m(self, query, raw, buffered, raw_as_string, **kwargs)\u001b[0m\n\u001b[0;32m    754\u001b[0m         query \u001b[38;5;241m=\u001b[39m query\u001b[38;5;241m.\u001b[39mencode(\u001b[38;5;124m\"\u001b[39m\u001b[38;5;124mutf-8\u001b[39m\u001b[38;5;124m\"\u001b[39m)\n\u001b[1;32m--> 755\u001b[0m     \u001b[38;5;28;43mself\u001b[39;49m\u001b[38;5;241;43m.\u001b[39;49m\u001b[43m_cmysql\u001b[49m\u001b[38;5;241;43m.\u001b[39;49m\u001b[43mquery\u001b[49m\u001b[43m(\u001b[49m\n\u001b[0;32m    756\u001b[0m \u001b[43m        \u001b[49m\u001b[43mquery\u001b[49m\u001b[43m,\u001b[49m\n\u001b[0;32m    757\u001b[0m \u001b[43m        \u001b[49m\u001b[43mraw\u001b[49m\u001b[38;5;241;43m=\u001b[39;49m\u001b[43mraw\u001b[49m\u001b[43m,\u001b[49m\n\u001b[0;32m    758\u001b[0m \u001b[43m        \u001b[49m\u001b[43mbuffered\u001b[49m\u001b[38;5;241;43m=\u001b[39;49m\u001b[43mbuffered\u001b[49m\u001b[43m,\u001b[49m\n\u001b[0;32m    759\u001b[0m \u001b[43m        \u001b[49m\u001b[43mraw_as_string\u001b[49m\u001b[38;5;241;43m=\u001b[39;49m\u001b[43mraw_as_string\u001b[49m\u001b[43m,\u001b[49m\n\u001b[0;32m    760\u001b[0m \u001b[43m        \u001b[49m\u001b[43mquery_attrs\u001b[49m\u001b[38;5;241;43m=\u001b[39;49m\u001b[38;5;28;43mself\u001b[39;49m\u001b[38;5;241;43m.\u001b[39;49m\u001b[43mquery_attrs\u001b[49m\u001b[43m,\u001b[49m\n\u001b[0;32m    761\u001b[0m \u001b[43m    \u001b[49m\u001b[43m)\u001b[49m\n\u001b[0;32m    762\u001b[0m \u001b[38;5;28;01mexcept\u001b[39;00m MySQLInterfaceError \u001b[38;5;28;01mas\u001b[39;00m err:\n",
      "\u001b[1;31mMySQLInterfaceError\u001b[0m: Unknown column 'Source' in 'field list'",
      "\nThe above exception was the direct cause of the following exception:\n",
      "\u001b[1;31mProgrammingError\u001b[0m                          Traceback (most recent call last)",
      "Cell \u001b[1;32mIn[6], line 107\u001b[0m\n\u001b[0;32m      1\u001b[0m insert_query \u001b[38;5;241m=\u001b[39m \u001b[38;5;124m\"\"\"\u001b[39m\n\u001b[0;32m      2\u001b[0m \u001b[38;5;124mINSERT INTO pollution_data (\u001b[39m\n\u001b[0;32m      3\u001b[0m \u001b[38;5;124m    Date, Source, Site_ID, POC,\u001b[39m\n\u001b[1;32m   (...)\u001b[0m\n\u001b[0;32m    104\u001b[0m \n\u001b[0;32m    105\u001b[0m \u001b[38;5;124m\"\"\"\u001b[39m\n\u001b[1;32m--> 107\u001b[0m \u001b[43mcursor\u001b[49m\u001b[38;5;241;43m.\u001b[39;49m\u001b[43mexecute\u001b[49m\u001b[43m(\u001b[49m\u001b[43minsert_query\u001b[49m\u001b[43m)\u001b[49m\n\u001b[0;32m    108\u001b[0m conn\u001b[38;5;241m.\u001b[39mcommit()\n\u001b[0;32m    109\u001b[0m \u001b[38;5;28mprint\u001b[39m(\u001b[38;5;124m\"\u001b[39m\u001b[38;5;124mData successfully inserted into pollution_data.\u001b[39m\u001b[38;5;124m\"\u001b[39m)\n",
      "File \u001b[1;32mc:\\Users\\16302\\AppData\\Local\\Programs\\Python\\Python312\\Lib\\site-packages\\mysql\\connector\\cursor_cext.py:351\u001b[0m, in \u001b[0;36mCMySQLCursor.execute\u001b[1;34m(self, operation, params, map_results)\u001b[0m\n\u001b[0;32m    343\u001b[0m \u001b[38;5;28mself\u001b[39m\u001b[38;5;241m.\u001b[39m_executed \u001b[38;5;241m=\u001b[39m (\n\u001b[0;32m    344\u001b[0m     \u001b[38;5;28mself\u001b[39m\u001b[38;5;241m.\u001b[39m_stmt_partition[\u001b[38;5;124m\"\u001b[39m\u001b[38;5;124msingle_stmts\u001b[39m\u001b[38;5;124m\"\u001b[39m]\u001b[38;5;241m.\u001b[39mpopleft()\n\u001b[0;32m    345\u001b[0m     \u001b[38;5;28;01mif\u001b[39;00m map_results\n\u001b[0;32m    346\u001b[0m     \u001b[38;5;28;01melse\u001b[39;00m \u001b[38;5;28mself\u001b[39m\u001b[38;5;241m.\u001b[39m_stmt_partition[\u001b[38;5;124m\"\u001b[39m\u001b[38;5;124mmappable_stmt\u001b[39m\u001b[38;5;124m\"\u001b[39m]\n\u001b[0;32m    347\u001b[0m )\n\u001b[0;32m    349\u001b[0m \u001b[38;5;28;01mtry\u001b[39;00m:\n\u001b[0;32m    350\u001b[0m     \u001b[38;5;28mself\u001b[39m\u001b[38;5;241m.\u001b[39m_handle_result(\n\u001b[1;32m--> 351\u001b[0m         \u001b[38;5;28;43mself\u001b[39;49m\u001b[38;5;241;43m.\u001b[39;49m\u001b[43m_connection\u001b[49m\u001b[38;5;241;43m.\u001b[39;49m\u001b[43mcmd_query\u001b[49m\u001b[43m(\u001b[49m\n\u001b[0;32m    352\u001b[0m \u001b[43m            \u001b[49m\u001b[38;5;28;43mself\u001b[39;49m\u001b[38;5;241;43m.\u001b[39;49m\u001b[43m_stmt_partition\u001b[49m\u001b[43m[\u001b[49m\u001b[38;5;124;43m\"\u001b[39;49m\u001b[38;5;124;43mmappable_stmt\u001b[39;49m\u001b[38;5;124;43m\"\u001b[39;49m\u001b[43m]\u001b[49m\u001b[43m,\u001b[49m\n\u001b[0;32m    353\u001b[0m \u001b[43m            \u001b[49m\u001b[43mraw\u001b[49m\u001b[38;5;241;43m=\u001b[39;49m\u001b[38;5;28;43mself\u001b[39;49m\u001b[38;5;241;43m.\u001b[39;49m\u001b[43m_raw\u001b[49m\u001b[43m,\u001b[49m\n\u001b[0;32m    354\u001b[0m \u001b[43m            \u001b[49m\u001b[43mbuffered\u001b[49m\u001b[38;5;241;43m=\u001b[39;49m\u001b[38;5;28;43mself\u001b[39;49m\u001b[38;5;241;43m.\u001b[39;49m\u001b[43m_buffered\u001b[49m\u001b[43m,\u001b[49m\n\u001b[0;32m    355\u001b[0m \u001b[43m            \u001b[49m\u001b[43mraw_as_string\u001b[49m\u001b[38;5;241;43m=\u001b[39;49m\u001b[38;5;28;43mself\u001b[39;49m\u001b[38;5;241;43m.\u001b[39;49m\u001b[43m_raw_as_string\u001b[49m\u001b[43m,\u001b[49m\n\u001b[0;32m    356\u001b[0m \u001b[43m        \u001b[49m\u001b[43m)\u001b[49m\n\u001b[0;32m    357\u001b[0m     )\n\u001b[0;32m    358\u001b[0m \u001b[38;5;28;01mexcept\u001b[39;00m MySQLInterfaceError \u001b[38;5;28;01mas\u001b[39;00m err:\n\u001b[0;32m    359\u001b[0m     \u001b[38;5;28;01mraise\u001b[39;00m get_mysql_exception(\n\u001b[0;32m    360\u001b[0m         msg\u001b[38;5;241m=\u001b[39merr\u001b[38;5;241m.\u001b[39mmsg, errno\u001b[38;5;241m=\u001b[39merr\u001b[38;5;241m.\u001b[39merrno, sqlstate\u001b[38;5;241m=\u001b[39merr\u001b[38;5;241m.\u001b[39msqlstate\n\u001b[0;32m    361\u001b[0m     ) \u001b[38;5;28;01mfrom\u001b[39;00m\u001b[38;5;250m \u001b[39m\u001b[38;5;21;01merr\u001b[39;00m\n",
      "File \u001b[1;32mc:\\Users\\16302\\AppData\\Local\\Programs\\Python\\Python312\\Lib\\site-packages\\mysql\\connector\\opentelemetry\\context_propagation.py:97\u001b[0m, in \u001b[0;36mwith_context_propagation.<locals>.wrapper\u001b[1;34m(cnx, *args, **kwargs)\u001b[0m\n\u001b[0;32m     95\u001b[0m \u001b[38;5;66;03m# pylint: disable=possibly-used-before-assignment\u001b[39;00m\n\u001b[0;32m     96\u001b[0m \u001b[38;5;28;01mif\u001b[39;00m \u001b[38;5;129;01mnot\u001b[39;00m OTEL_ENABLED \u001b[38;5;129;01mor\u001b[39;00m \u001b[38;5;129;01mnot\u001b[39;00m cnx\u001b[38;5;241m.\u001b[39motel_context_propagation:\n\u001b[1;32m---> 97\u001b[0m     \u001b[38;5;28;01mreturn\u001b[39;00m \u001b[43mmethod\u001b[49m\u001b[43m(\u001b[49m\u001b[43mcnx\u001b[49m\u001b[43m,\u001b[49m\u001b[43m \u001b[49m\u001b[38;5;241;43m*\u001b[39;49m\u001b[43margs\u001b[49m\u001b[43m,\u001b[49m\u001b[43m \u001b[49m\u001b[38;5;241;43m*\u001b[39;49m\u001b[38;5;241;43m*\u001b[39;49m\u001b[43mkwargs\u001b[49m\u001b[43m)\u001b[49m\n\u001b[0;32m     99\u001b[0m current_span \u001b[38;5;241m=\u001b[39m trace\u001b[38;5;241m.\u001b[39mget_current_span()\n\u001b[0;32m    100\u001b[0m tp_header \u001b[38;5;241m=\u001b[39m \u001b[38;5;28;01mNone\u001b[39;00m\n",
      "File \u001b[1;32mc:\\Users\\16302\\AppData\\Local\\Programs\\Python\\Python312\\Lib\\site-packages\\mysql\\connector\\connection_cext.py:763\u001b[0m, in \u001b[0;36mCMySQLConnection.cmd_query\u001b[1;34m(self, query, raw, buffered, raw_as_string, **kwargs)\u001b[0m\n\u001b[0;32m    755\u001b[0m     \u001b[38;5;28mself\u001b[39m\u001b[38;5;241m.\u001b[39m_cmysql\u001b[38;5;241m.\u001b[39mquery(\n\u001b[0;32m    756\u001b[0m         query,\n\u001b[0;32m    757\u001b[0m         raw\u001b[38;5;241m=\u001b[39mraw,\n\u001b[1;32m   (...)\u001b[0m\n\u001b[0;32m    760\u001b[0m         query_attrs\u001b[38;5;241m=\u001b[39m\u001b[38;5;28mself\u001b[39m\u001b[38;5;241m.\u001b[39mquery_attrs,\n\u001b[0;32m    761\u001b[0m     )\n\u001b[0;32m    762\u001b[0m \u001b[38;5;28;01mexcept\u001b[39;00m MySQLInterfaceError \u001b[38;5;28;01mas\u001b[39;00m err:\n\u001b[1;32m--> 763\u001b[0m     \u001b[38;5;28;01mraise\u001b[39;00m get_mysql_exception(\n\u001b[0;32m    764\u001b[0m         err\u001b[38;5;241m.\u001b[39merrno, msg\u001b[38;5;241m=\u001b[39merr\u001b[38;5;241m.\u001b[39mmsg, sqlstate\u001b[38;5;241m=\u001b[39merr\u001b[38;5;241m.\u001b[39msqlstate\n\u001b[0;32m    765\u001b[0m     ) \u001b[38;5;28;01mfrom\u001b[39;00m\u001b[38;5;250m \u001b[39m\u001b[38;5;21;01merr\u001b[39;00m\n\u001b[0;32m    766\u001b[0m \u001b[38;5;28;01mexcept\u001b[39;00m \u001b[38;5;167;01mAttributeError\u001b[39;00m \u001b[38;5;28;01mas\u001b[39;00m err:\n\u001b[0;32m    767\u001b[0m     addr \u001b[38;5;241m=\u001b[39m (\n\u001b[0;32m    768\u001b[0m         \u001b[38;5;28mself\u001b[39m\u001b[38;5;241m.\u001b[39m_unix_socket \u001b[38;5;28;01mif\u001b[39;00m \u001b[38;5;28mself\u001b[39m\u001b[38;5;241m.\u001b[39m_unix_socket \u001b[38;5;28;01melse\u001b[39;00m \u001b[38;5;124mf\u001b[39m\u001b[38;5;124m\"\u001b[39m\u001b[38;5;132;01m{\u001b[39;00m\u001b[38;5;28mself\u001b[39m\u001b[38;5;241m.\u001b[39m_host\u001b[38;5;132;01m}\u001b[39;00m\u001b[38;5;124m:\u001b[39m\u001b[38;5;132;01m{\u001b[39;00m\u001b[38;5;28mself\u001b[39m\u001b[38;5;241m.\u001b[39m_port\u001b[38;5;132;01m}\u001b[39;00m\u001b[38;5;124m\"\u001b[39m\n\u001b[0;32m    769\u001b[0m     )\n",
      "\u001b[1;31mProgrammingError\u001b[0m: 1054 (42S22): Unknown column 'Source' in 'field list'"
     ]
    }
   ],
   "source": [
    "insert_query = \"\"\"\n",
    "INSERT INTO pollution_data (\n",
    "    Date, Source, Site_ID, POC,\n",
    "    Daily_Mean_PM25_Concentration, Daily_Max_8hr_CO_Concentration,\n",
    "    Units, Daily_AQI_Value, Local_Site_Name,\n",
    "    Daily_Obs_Count, Percent_Complete, AQS_Parameter_Code,\n",
    "    AQS_Parameter_Description, Method_Code, Method_Description,\n",
    "    CBSA_Code, CBSA_Name, State_FIPS_Code, State,\n",
    "    County_FIPS_Code, County, Site_Latitude, Site_Longitude\n",
    ")\n",
    "SELECT \n",
    "    Date, Source, Site_ID, POC,\n",
    "    Daily_Mean_PM25_Concentration, NULL AS Daily_Max_8hr_CO_Concentration,\n",
    "    Units, Daily_AQI_Value, Local_Site_Name,\n",
    "    Daily_Obs_Count, Percent_Complete, AQS_Parameter_Code,\n",
    "    AQS_Parameter_Description, Method_Code, Method_Description,\n",
    "    CBSA_Code, CBSA_Name, State_FIPS_Code, State,\n",
    "    County_FIPS_Code, County, Site_Latitude, Site_Longitude\n",
    "FROM ad_viz_plotval_data\n",
    "\n",
    "UNION ALL\n",
    "\n",
    "SELECT \n",
    "    Date, Source, Site_ID, POC,\n",
    "    NULL AS Daily_Mean_PM25_Concentration, Daily_Max_8hr_CO_Concentration,\n",
    "    Units, Daily_AQI_Value, Local_Site_Name,\n",
    "    Daily_Obs_Count, Percent_Complete, AQS_Parameter_Code,\n",
    "    AQS_Parameter_Description, Method_Code, NULL AS Method_Description,\n",
    "    CBSA_Code, CBSA_Name, State_FIPS_Code, State,\n",
    "    County_FIPS_Code, County, Site_Latitude, Site_Longitude\n",
    "FROM ad_viz_plotval_data_2\n",
    "\n",
    "UNION ALL\n",
    "\n",
    "SELECT \n",
    "    Date, Source, Site_ID, POC,\n",
    "    Daily_Mean_PM25_Concentration, NULL AS Daily_Max_8hr_CO_Concentration,\n",
    "    Units, Daily_AQI_Value, Local_Site_Name,\n",
    "    Daily_Obs_Count, Percent_Complete, AQS_Parameter_Code,\n",
    "    AQS_Parameter_Description, Method_Code, Method_Description,\n",
    "    CBSA_Code, CBSA_Name, State_FIPS_Code, State,\n",
    "    County_FIPS_Code, County, Site_Latitude, Site_Longitude\n",
    "FROM ad_viz_plotval_data_4\n",
    "\n",
    "UNION ALL\n",
    "\n",
    "SELECT \n",
    "    Date, Source, Site_ID, POC,\n",
    "    NULL AS Daily_Mean_PM25_Concentration, Daily_Max_8hr_CO_Concentration,\n",
    "    Units, Daily_AQI_Value, Local_Site_Name,\n",
    "    Daily_Obs_Count, Percent_Complete, AQS_Parameter_Code,\n",
    "    AQS_Parameter_Description, Method_Code, NULL AS Method_Description,\n",
    "    CBSA_Code, CBSA_Name, State_FIPS_Code, State,\n",
    "    County_FIPS_Code, County, Site_Latitude, Site_Longitude\n",
    "FROM ad_viz_plotval_data_10\n",
    "\n",
    "UNION ALL\n",
    "\n",
    "SELECT \n",
    "    Date, Source, Site_ID, POC,\n",
    "    Daily_Mean_PM25_Concentration, NULL AS Daily_Max_8hr_CO_Concentration,\n",
    "    Units, Daily_AQI_Value, Local_Site_Name,\n",
    "    Daily_Obs_Count, Percent_Complete, AQS_Parameter_Code,\n",
    "    AQS_Parameter_Description, Method_Code, Method_Description,\n",
    "    CBSA_Code, CBSA_Name, State_FIPS_Code, State,\n",
    "    County_FIPS_Code, County, Site_Latitude, Site_Longitude\n",
    "FROM ad_viz_plotval_data_11\n",
    "\n",
    "UNION ALL\n",
    "\n",
    "SELECT \n",
    "    Date, Source, Site_ID, POC,\n",
    "    NULL AS Daily_Mean_PM25_Concentration, Daily_Max_8hr_CO_Concentration,\n",
    "    Units, Daily_AQI_Value, Local_Site_Name,\n",
    "    Daily_Obs_Count, Percent_Complete, AQS_Parameter_Code,\n",
    "    AQS_Parameter_Description, Method_Code, NULL AS Method_Description,\n",
    "    CBSA_Code, CBSA_Name, State_FIPS_Code, State,\n",
    "    County_FIPS_Code, County, Site_Latitude, Site_Longitude\n",
    "FROM ad_viz_plotval_data_6\n",
    "\n",
    "UNION ALL\n",
    "\n",
    "SELECT \n",
    "    Date, Source, Site_ID, POC,\n",
    "    Daily_Mean_PM25_Concentration, NULL AS Daily_Max_8hr_CO_Concentration,\n",
    "    Units, Daily_AQI_Value, Local_Site_Name,\n",
    "    Daily_Obs_Count, Percent_Complete, AQS_Parameter_Code,\n",
    "    AQS_Parameter_Description, Method_Code, Method_Description,\n",
    "    CBSA_Code, CBSA_Name, State_FIPS_Code, State,\n",
    "    County_FIPS_Code, County, Site_Latitude, Site_Longitude\n",
    "FROM ad_viz_plotval_data_8\n",
    "\n",
    "UNION ALL\n",
    "\n",
    "SELECT \n",
    "    Date, Source, Site_ID, POC,\n",
    "    NULL AS Daily_Mean_PM25_Concentration, Daily_Max_8hr_CO_Concentration,\n",
    "    Units, Daily_AQI_Value, Local_Site_Name,\n",
    "    Daily_Obs_Count, Percent_Complete, AQS_Parameter_Code,\n",
    "    AQS_Parameter_Description, Method_Code, NULL AS Method_Description,\n",
    "    CBSA_Code, CBSA_Name, State_FIPS_Code, State,\n",
    "    County_FIPS_Code, County, Site_Latitude, Site_Longitude\n",
    "FROM ad_viz_plotval_data_9;\n",
    "\n",
    "\"\"\"\n",
    "\n",
    "cursor.execute(insert_query)\n",
    "conn.commit()\n",
    "print(\"Data successfully inserted into pollution_data.\")"
   ]
  },
  {
   "cell_type": "code",
   "execution_count": null,
   "metadata": {},
   "outputs": [],
   "source": [
    "conn.close()"
   ]
  }
 ],
 "metadata": {
  "kernelspec": {
   "display_name": "Python 3",
   "language": "python",
   "name": "python3"
  },
  "language_info": {
   "codemirror_mode": {
    "name": "ipython",
    "version": 3
   },
   "file_extension": ".py",
   "mimetype": "text/x-python",
   "name": "python",
   "nbconvert_exporter": "python",
   "pygments_lexer": "ipython3",
   "version": "3.12.2"
  }
 },
 "nbformat": 4,
 "nbformat_minor": 2
}
