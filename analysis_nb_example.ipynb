{
 "cells": [
  {
   "cell_type": "code",
   "execution_count": 1,
   "id": "f31a083a-4c89-4a45-9a83-1cf157260667",
   "metadata": {},
   "outputs": [],
   "source": [
    "import numpy as np\n",
    "import pandas as pd\n",
    "import pymysql as mysql\n",
    "import matplotlib.pyplot as plt\n",
    "import time\n",
    "import warnings\n",
    "import seaborn as sns\n",
    "import pandas as pd\n"
   ]
  },
  {
   "cell_type": "code",
   "execution_count": 8,
   "id": "2aaf4dce-0c52-41de-bb2c-05c64fc578c8",
   "metadata": {},
   "outputs": [],
   "source": [
    "conn=mysql.connect(host='ads507-final-project.mysql.database.azure.com',port=int(3306),user='liam',passwd='airquality',db=\"air_quality_analysis\",ssl={'ssl': {}})\n"
   ]
  },
  {
   "cell_type": "code",
   "execution_count": 9,
   "id": "905d8f6f-1529-4616-ab29-896492282d55",
   "metadata": {},
   "outputs": [
    {
     "name": "stderr",
     "output_type": "stream",
     "text": [
      "C:\\Users\\oliwa\\AppData\\Local\\Temp\\ipykernel_25264\\3779885110.py:1: UserWarning: pandas only supports SQLAlchemy connectable (engine/connection) or database string URI or sqlite3 DBAPI2 connection. Other DBAPI2 objects are not tested. Please consider using SQLAlchemy.\n",
      "  pd.read_sql(\"SHOW TABLES\", conn)\n"
     ]
    },
    {
     "data": {
      "text/html": [
       "<div>\n",
       "<style scoped>\n",
       "    .dataframe tbody tr th:only-of-type {\n",
       "        vertical-align: middle;\n",
       "    }\n",
       "\n",
       "    .dataframe tbody tr th {\n",
       "        vertical-align: top;\n",
       "    }\n",
       "\n",
       "    .dataframe thead th {\n",
       "        text-align: right;\n",
       "    }\n",
       "</style>\n",
       "<table border=\"1\" class=\"dataframe\">\n",
       "  <thead>\n",
       "    <tr style=\"text-align: right;\">\n",
       "      <th></th>\n",
       "      <th>Tables_in_air_quality_analysis</th>\n",
       "    </tr>\n",
       "  </thead>\n",
       "  <tbody>\n",
       "    <tr>\n",
       "      <th>0</th>\n",
       "      <td>asthma_ed_visits</td>\n",
       "    </tr>\n",
       "    <tr>\n",
       "      <th>1</th>\n",
       "      <td>asthma_hospital_visits</td>\n",
       "    </tr>\n",
       "    <tr>\n",
       "      <th>2</th>\n",
       "      <td>asthma_pollution</td>\n",
       "    </tr>\n",
       "    <tr>\n",
       "      <th>3</th>\n",
       "      <td>co_data</td>\n",
       "    </tr>\n",
       "    <tr>\n",
       "      <th>4</th>\n",
       "      <td>hospital_pollution</td>\n",
       "    </tr>\n",
       "    <tr>\n",
       "      <th>5</th>\n",
       "      <td>la_co</td>\n",
       "    </tr>\n",
       "    <tr>\n",
       "      <th>6</th>\n",
       "      <td>la_pm</td>\n",
       "    </tr>\n",
       "    <tr>\n",
       "      <th>7</th>\n",
       "      <td>or_co</td>\n",
       "    </tr>\n",
       "    <tr>\n",
       "      <th>8</th>\n",
       "      <td>or_pm</td>\n",
       "    </tr>\n",
       "    <tr>\n",
       "      <th>9</th>\n",
       "      <td>pm25_data</td>\n",
       "    </tr>\n",
       "    <tr>\n",
       "      <th>10</th>\n",
       "      <td>pollution_data</td>\n",
       "    </tr>\n",
       "    <tr>\n",
       "      <th>11</th>\n",
       "      <td>sb_co</td>\n",
       "    </tr>\n",
       "    <tr>\n",
       "      <th>12</th>\n",
       "      <td>sb_pm</td>\n",
       "    </tr>\n",
       "    <tr>\n",
       "      <th>13</th>\n",
       "      <td>sd_co</td>\n",
       "    </tr>\n",
       "    <tr>\n",
       "      <th>14</th>\n",
       "      <td>sd_pm</td>\n",
       "    </tr>\n",
       "  </tbody>\n",
       "</table>\n",
       "</div>"
      ],
      "text/plain": [
       "   Tables_in_air_quality_analysis\n",
       "0                asthma_ed_visits\n",
       "1          asthma_hospital_visits\n",
       "2                asthma_pollution\n",
       "3                         co_data\n",
       "4              hospital_pollution\n",
       "5                           la_co\n",
       "6                           la_pm\n",
       "7                           or_co\n",
       "8                           or_pm\n",
       "9                       pm25_data\n",
       "10                 pollution_data\n",
       "11                          sb_co\n",
       "12                          sb_pm\n",
       "13                          sd_co\n",
       "14                          sd_pm"
      ]
     },
     "execution_count": 9,
     "metadata": {},
     "output_type": "execute_result"
    }
   ],
   "source": [
    "pd.read_sql(\"SHOW TABLES\", conn)"
   ]
  },
  {
   "cell_type": "code",
   "execution_count": 72,
   "id": "01b8de7f-9c53-4733-86ed-1068c050c273",
   "metadata": {},
   "outputs": [
    {
     "name": "stderr",
     "output_type": "stream",
     "text": [
      "C:\\Users\\oliwa\\AppData\\Local\\Temp\\ipykernel_18140\\254997842.py:44: UserWarning: pandas only supports SQLAlchemy connectable (engine/connection) or database string URI or sqlite3 DBAPI2 connection. Other DBAPI2 objects are not tested. Please consider using SQLAlchemy.\n",
      "  hospital_pollution = pd.read_sql(\"SELECT * FROM hospital_pollution\", conn)\n"
     ]
    }
   ],
   "source": [
    "# ed_queries = [\n",
    "#     \"DROP TEMPORARY TABLE IF EXISTS socal_co;\",\n",
    "#     \"CREATE TEMPORARY TABLE socal_co AS SELECT * FROM la_co UNION ALL SELECT * FROM or_co UNION ALL SELECT * FROM sb_co UNION ALL SELECT * FROM sd_co;\",\n",
    "    \n",
    "#     \"DROP TEMPORARY TABLE IF EXISTS socal_pm;\",\n",
    "#     \"CREATE TEMPORARY TABLE socal_pm AS SELECT * FROM la_pm UNION ALL SELECT * FROM or_pm UNION ALL SELECT * FROM sb_pm UNION ALL SELECT * FROM sd_pm;\",\n",
    "    \n",
    "#     \"DROP TEMPORARY TABLE IF EXISTS avg_socal_co;\",\n",
    "#     \"CREATE TEMPORARY TABLE avg_socal_co AS SELECT County, AVG(Daily_Max_8hr_CO_Concentration) AS avg_co FROM socal_co GROUP BY County;\",\n",
    "    \n",
    "#     \"DROP TEMPORARY TABLE IF EXISTS avg_socal_pm;\",\n",
    "#     \"CREATE TEMPORARY TABLE avg_socal_pm AS SELECT County, AVG(Daily_Mean_PM25_Concentration) AS avg_pm FROM socal_pm GROUP BY County;\",\n",
    "    \n",
    "#     \"DROP TEMPORARY TABLE IF EXISTS asthma_pollution;\",\n",
    "#     \"CREATE TABLE asthma_pollution AS SELECT a.*, c.avg_co, p.avg_pm FROM asthma_ed_visits a INNER JOIN avg_socal_co c ON a.county = c.County INNER JOIN avg_socal_pm p ON a.county = p.County;\"\n",
    "# ]\n",
    "\n",
    "# hospital_queries= [\n",
    "\n",
    "#     \"DROP TEMPORARY TABLE IF EXISTS socal_co;\",\n",
    "#     \"CREATE TEMPORARY TABLE socal_co AS SELECT * FROM la_co UNION ALL SELECT * FROM or_co UNION ALL SELECT * FROM sb_co UNION ALL SELECT * FROM sd_co;\",\n",
    "    \n",
    "#     \"DROP TEMPORARY TABLE IF EXISTS socal_pm;\",\n",
    "#     \"CREATE TEMPORARY TABLE socal_pm AS SELECT * FROM la_pm UNION ALL SELECT * FROM or_pm UNION ALL SELECT * FROM sb_pm UNION ALL SELECT * FROM sd_pm;\",\n",
    "    \n",
    "#     \"DROP TEMPORARY TABLE IF EXISTS avg_socal_co;\",\n",
    "#     \"CREATE TEMPORARY TABLE avg_socal_co AS SELECT County, AVG(Daily_Max_8hr_CO_Concentration) AS avg_co FROM socal_co GROUP BY County;\",\n",
    "    \n",
    "#     \"DROP TEMPORARY TABLE IF EXISTS avg_socal_pm;\",\n",
    "#     \"CREATE TEMPORARY TABLE avg_socal_pm AS SELECT County, AVG(Daily_Mean_PM25_Concentration) AS avg_pm FROM socal_pm GROUP BY County;\",\n",
    "    \n",
    "#     \"DROP TEMPORARY TABLE IF EXISTS hospital_pollution;\",\n",
    "#     \"CREATE TABLE hospital_pollution AS SELECT a.*, c.avg_co, p.avg_pm FROM asthma_hospital_visits a INNER JOIN avg_socal_co c ON a.county = c.County INNER JOIN avg_socal_pm p ON a.county = p.County;\"\n",
    "    \n",
    "# ]\n",
    "\n",
    "# # Execute each query sequentially\n",
    "# cursor = conn.cursor()\n",
    "# for query in hospital_queries:\n",
    "#     cursor.execute(query)\n",
    "# conn.commit()\n",
    "  \n"
   ]
  },
  {
   "cell_type": "code",
   "execution_count": 45,
   "id": "603c8abc-b70a-493f-8598-a7659645f11c",
   "metadata": {},
   "outputs": [
    {
     "name": "stderr",
     "output_type": "stream",
     "text": [
      "C:\\Users\\oliwa\\AppData\\Local\\Temp\\ipykernel_25264\\2608065368.py:1: UserWarning: pandas only supports SQLAlchemy connectable (engine/connection) or database string URI or sqlite3 DBAPI2 connection. Other DBAPI2 objects are not tested. Please consider using SQLAlchemy.\n",
      "  hospital_pollution = pd.read_sql(\"SELECT * FROM hospital_pollution\", conn)\n"
     ]
    }
   ],
   "source": [
    "hospital_pollution = pd.read_sql(\"SELECT * FROM hospital_pollution\", conn)\n",
    "asthma_pollution = pd.read_sql(\"SELECT * FROM asthma_pollution\", conn)"
   ]
  },
  {
   "cell_type": "code",
   "execution_count": 51,
   "id": "9b382309-c93b-4bd7-8839-cafbe8418dcb",
   "metadata": {},
   "outputs": [
    {
     "name": "stderr",
     "output_type": "stream",
     "text": [
      "C:\\Users\\oliwa\\AppData\\Local\\Temp\\ipykernel_25264\\3947706594.py:2: SettingWithCopyWarning: \n",
      "A value is trying to be set on a copy of a slice from a DataFrame.\n",
      "Try using .loc[row_indexer,col_indexer] = value instead\n",
      "\n",
      "See the caveats in the documentation: https://pandas.pydata.org/pandas-docs/stable/user_guide/indexing.html#returning-a-view-versus-a-copy\n",
      "  df_all_ages['avg_pm']=df_all_ages['avg_pm'].round(1)\n"
     ]
    },
    {
     "data": {
      "image/png": "[encoded data removed]",
      "text/plain": [
       "<Figure size 800x500 with 1 Axes>"
      ]
     },
     "metadata": {},
     "output_type": "display_data"
    }
   ],
   "source": [
    "df_all_ages = hospital_pollution[hospital_pollution[\"age_group\"] == \"65+ years\"]\n",
    "df_all_ages['avg_pm']=df_all_ages['avg_pm'].round(1)\n",
    "# Plot bar chart\n",
    "plt.figure(figsize=(8, 5))\n",
    "sns.barplot(data=df_all_ages, x=\"avg_pm\", y=\"age_adjusted_hospitalization_rate\", estimator=\"mean\", errorbar=None,hue=\"county\")\n",
    "\n",
    "plt.xlabel(\"Yearly avg concentration of particles < 2.5um\")\n",
    "plt.ylabel(\" Yearly avg hospitalization rate\")\n",
    "plt.title(\"Senior Citizen Hospitalization rates vs pm2.5 concentration\")\n",
    "plt.xticks(rotation=45)\n",
    "plt.show()"
   ]
  }
 ],
 "metadata": {
  "kernelspec": {
   "display_name": "Python 3 (ipykernel)",
   "language": "python",
   "name": "python3"
  },
  "language_info": {
   "codemirror_mode": {
    "name": "ipython",
    "version": 3
   },
   "file_extension": ".py",
   "mimetype": "text/x-python",
   "name": "python",
   "nbconvert_exporter": "python",
   "pygments_lexer": "ipython3",
   "version": "3.11.7"
  }
 },
 "nbformat": 4,
 "nbformat_minor": 5
}
